{
 "cells": [
  {
   "cell_type": "markdown",
   "metadata": {},
   "source": [
    "# Using Postgres to Create a Table to Record Information on Storms"
   ]
  },
  {
   "cell_type": "code",
   "execution_count": 1,
   "metadata": {},
   "outputs": [],
   "source": [
    "\"\"\"Loading packages, connecting to the server and creating the database\"\"\"\n",
    "\n",
    "import psycopg2\n",
    "import io\n",
    "from urllib import request\n",
    "import csv\n",
    "\n",
    "conn = psycopg2.connect(dbname=\"costa\", user=\"costa\")\n",
    "cur = conn.cursor()\n",
    "conn.autocommit = True\n",
    "cur.execute('DROP DATABASE IF EXISTS storm')\n",
    "cur.execute('CREATE DATABASE storm OWNER costa')"
   ]
  },
  {
   "cell_type": "code",
   "execution_count": 2,
   "metadata": {},
   "outputs": [],
   "source": [
    "'''Setting up a group to modify to the database along with one user, e.g. people involved in production'''\n",
    "\n",
    "#cur.execute('DROP GROUP IF EXISTS data_production')\n",
    "#cur.execute('DROP USER IF EXISTS member_1')\n",
    "#cur.execute('''\n",
    "#CREATE GROUP data_production NOLOGIN;\n",
    "#REVOKE ALL ON storm_data FROM data_production;\n",
    "#GRANT SELECT, INSERT, UPDATE ON storm_data to data_production;\n",
    "#CREATE USER member_1 IN GROUP data_production\n",
    "#''')"
   ]
  },
  {
   "cell_type": "code",
   "execution_count": 3,
   "metadata": {},
   "outputs": [],
   "source": [
    "'''Setting up a group to read the table only along with one user, e.g. analysts'''\n",
    "\n",
    "#cur.execute('DROP GROUP IF EXISTS analysts')\n",
    "#cur.execute('DROP USER IF EXISTS analyst_1')\n",
    "#cur.execute('''\n",
    "#CREATE GROUP analysts NOLOGIN;\n",
    "#REVOKE ALL ON storm_data FROM analysts;\n",
    "#GRANT SELECT ON storm_data to analysts;\n",
    "#CREATE USER analyst_1 IN GROUP analysts\n",
    "#''')"
   ]
  },
  {
   "cell_type": "code",
   "execution_count": 17,
   "metadata": {},
   "outputs": [
    {
     "name": "stdout",
     "output_type": "stream",
     "text": [
      "(Column(name='fid', type_code=1043, display_size=None, internal_size=32, precision=None, scale=None, null_ok=None), Column(name='datetime_utc', type_code=1114, display_size=None, internal_size=8, precision=None, scale=None, null_ok=None), Column(name='btid', type_code=23, display_size=None, internal_size=4, precision=None, scale=None, null_ok=None), Column(name='name', type_code=25, display_size=None, internal_size=-1, precision=None, scale=None, null_ok=None), Column(name='lat', type_code=1700, display_size=None, internal_size=3, precision=3, scale=1, null_ok=None), Column(name='long', type_code=1700, display_size=None, internal_size=4, precision=4, scale=1, null_ok=None), Column(name='wind_kts', type_code=23, display_size=None, internal_size=4, precision=None, scale=None, null_ok=None), Column(name='pressure', type_code=23, display_size=None, internal_size=4, precision=None, scale=None, null_ok=None), Column(name='cat', type_code=1043, display_size=None, internal_size=2, precision=None, scale=None, null_ok=None), Column(name='basin', type_code=1043, display_size=None, internal_size=15, precision=None, scale=None, null_ok=None), Column(name='shape_length', type_code=1700, display_size=None, internal_size=8, precision=8, scale=6, null_ok=None))\n"
     ]
    }
   ],
   "source": [
    "\"\"\"Creating the table and schema guided by inspecting the input data\"\"\"\n",
    "\n",
    "conn = psycopg2.connect(dbname=\"storm\", user=\"costa\")\n",
    "cur = conn.cursor()\n",
    "conn.autocommit = True\n",
    "cur.execute('DROP TABLE IF EXISTS storm_data')\n",
    "cur.execute('''\n",
    "CREATE TABLE storm_data(\n",
    "fid VARCHAR(32),\n",
    "datetime TIMESTAMP WITH TIME ZONE,\n",
    "btid INTEGER,\n",
    "name TEXT,\n",
    "lat DECIMAL(3,1),\n",
    "long DECIMAL(4,1),\n",
    "wind_kts INTEGER,\n",
    "pressure INTEGER,\n",
    "cat VARCHAR(2),\n",
    "basin VARCHAR(15),\n",
    "shape_length DECIMAL(8,6)\n",
    ")\n",
    "''')\n",
    "\n",
    "# verifying table schema\n",
    "cur.execute('SELECT * FROM storm_data LIMIT 0')\n",
    "print(cur.description)"
   ]
  },
  {
   "cell_type": "code",
   "execution_count": 18,
   "metadata": {},
   "outputs": [],
   "source": [
    "\"\"\"Inserting the data into the table\"\"\"\n",
    "\n",
    "with request.urlopen('https://dq-content.s3.amazonaws.com/251/storm_data.csv') as response:\n",
    "    next(response)\n",
    "    reader = csv.reader(io.TextIOWrapper(response))\n",
    "    for row in reader:\n",
    "        later_elements = row[5:]\n",
    "        first_element = row[0]\n",
    "        # formatting the input data for the timestamp datatype\n",
    "        datetime = row[1] + \"-\" + row[2] + \"-\" + row[3] + \" \" + row[4][:2] + \":\" + row[4][2:4] + \" \" + row[4][-1]\n",
    "        # putting all the data together in the order of the schema (to allow for fast and efficient addition of data \n",
    "        # in the future)\n",
    "        updated_row = [first_element] + [datetime] + later_elements\n",
    "        cur.execute(\"INSERT INTO storm_data VALUES (%s, %s, %s, %s, %s, %s, %s, %s, %s, %s, %s)\", updated_row) "
   ]
  },
  {
   "cell_type": "code",
   "execution_count": 21,
   "metadata": {},
   "outputs": [],
   "source": [
    "\"\"\"Adding additional data to the table\"\"\"\n",
    "\n",
    "with request.urlopen('https://dq-content.s3.amazonaws.com/251/storm_data_additional.csv') as response:\n",
    "    cur.copy_expert('COPY storm_data FROM STDOUT WITH CSV HEADER', response)"
   ]
  },
  {
   "cell_type": "code",
   "execution_count": 12,
   "metadata": {},
   "outputs": [],
   "source": [
    "\"\"\"Closing connection\"\"\"\n",
    "\n",
    "conn.close()"
   ]
  }
 ],
 "metadata": {
  "kernelspec": {
   "display_name": "Python 3",
   "language": "python",
   "name": "python3"
  },
  "language_info": {
   "codemirror_mode": {
    "name": "ipython",
    "version": 3
   },
   "file_extension": ".py",
   "mimetype": "text/x-python",
   "name": "python",
   "nbconvert_exporter": "python",
   "pygments_lexer": "ipython3",
   "version": "3.6.8"
  }
 },
 "nbformat": 4,
 "nbformat_minor": 2
}
